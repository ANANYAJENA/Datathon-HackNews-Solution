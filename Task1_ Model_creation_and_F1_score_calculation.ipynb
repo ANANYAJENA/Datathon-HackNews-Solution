{
 "cells": [
  {
   "cell_type": "code",
   "execution_count": 1,
   "metadata": {},
   "outputs": [],
   "source": [
    "import pandas as pd\n",
    "import numpy as np\n",
    "import sklearn\n",
    "from sklearn.model_selection import train_test_split\n",
    "from sklearn.feature_extraction.text import CountVectorizer\n",
    "from sklearn.feature_extraction.text import TfidfVectorizer\n",
    "from sklearn.feature_extraction.text import HashingVectorizer"
   ]
  },
  {
   "cell_type": "code",
   "execution_count": 2,
   "metadata": {},
   "outputs": [],
   "source": [
    "from sklearn.naive_bayes import MultinomialNB\n",
    "from sklearn.linear_model import PassiveAggressiveClassifier\n",
    "from sklearn.ensemble import RandomForestClassifier\n",
    "from sklearn.tree import DecisionTreeClassifier\n",
    "from sklearn.linear_model import LogisticRegression\n",
    "from sklearn.ensemble import AdaBoostClassifier\n",
    "from sklearn.neighbors import KNeighborsClassifier\n",
    "from sklearn.neural_network import MLPClassifier\n",
    "from sklearn.svm import SVC"
   ]
  },
  {
   "cell_type": "code",
   "execution_count": 3,
   "metadata": {},
   "outputs": [],
   "source": [
    "# !pip install pandas_ml\n",
    "from sklearn import metrics\n",
    "from pandas_ml import ConfusionMatrix\n",
    "from matplotlib import pyplot as plt\n",
    "import itertools"
   ]
  },
  {
   "cell_type": "code",
   "execution_count": 4,
   "metadata": {},
   "outputs": [],
   "source": [
    "dataframe = pd.read_csv(\"C:/Users/Administrator/Downloads/v5/datasets-v5/task-1/task1.train.txt\",delimiter=\"\\t\")"
   ]
  },
  {
   "cell_type": "code",
   "execution_count": 5,
   "metadata": {},
   "outputs": [],
   "source": [
    "dataframe.to_csv(\"C:/Users/Administrator/Downloads/v5/new_tasks.train.csv\", encoding='utf-8', index=False)"
   ]
  },
  {
   "cell_type": "code",
   "execution_count": 6,
   "metadata": {},
   "outputs": [],
   "source": [
    "df = pd.read_csv(\"C:/Users/Administrator/Downloads/v5/new_tasks.train.csv\", header=None)"
   ]
  },
  {
   "cell_type": "code",
   "execution_count": 7,
   "metadata": {},
   "outputs": [
    {
     "data": {
      "text/html": [
       "<div>\n",
       "<style scoped>\n",
       "    .dataframe tbody tr th:only-of-type {\n",
       "        vertical-align: middle;\n",
       "    }\n",
       "\n",
       "    .dataframe tbody tr th {\n",
       "        vertical-align: top;\n",
       "    }\n",
       "\n",
       "    .dataframe thead th {\n",
       "        text-align: right;\n",
       "    }\n",
       "</style>\n",
       "<table border=\"1\" class=\"dataframe\">\n",
       "  <thead>\n",
       "    <tr style=\"text-align: right;\">\n",
       "      <th></th>\n",
       "      <th>0</th>\n",
       "      <th>1</th>\n",
       "      <th>2</th>\n",
       "    </tr>\n",
       "  </thead>\n",
       "  <tbody>\n",
       "    <tr>\n",
       "      <th>0</th>\n",
       "      <td>Et tu, Rhody?  A recent editorial in the Provi...</td>\n",
       "      <td>727600136</td>\n",
       "      <td>non-propaganda</td>\n",
       "    </tr>\n",
       "  </tbody>\n",
       "</table>\n",
       "</div>"
      ],
      "text/plain": [
       "                                                   0          1  \\\n",
       "0  Et tu, Rhody?  A recent editorial in the Provi...  727600136   \n",
       "\n",
       "                2  \n",
       "0  non-propaganda  "
      ]
     },
     "execution_count": 7,
     "metadata": {},
     "output_type": "execute_result"
    }
   ],
   "source": [
    "df.head(1)"
   ]
  },
  {
   "cell_type": "code",
   "execution_count": 8,
   "metadata": {},
   "outputs": [],
   "source": [
    "df.columns =['Title_Content','article_id','label']"
   ]
  },
  {
   "cell_type": "code",
   "execution_count": 9,
   "metadata": {},
   "outputs": [
    {
     "data": {
      "text/html": [
       "<div>\n",
       "<style scoped>\n",
       "    .dataframe tbody tr th:only-of-type {\n",
       "        vertical-align: middle;\n",
       "    }\n",
       "\n",
       "    .dataframe tbody tr th {\n",
       "        vertical-align: top;\n",
       "    }\n",
       "\n",
       "    .dataframe thead th {\n",
       "        text-align: right;\n",
       "    }\n",
       "</style>\n",
       "<table border=\"1\" class=\"dataframe\">\n",
       "  <thead>\n",
       "    <tr style=\"text-align: right;\">\n",
       "      <th></th>\n",
       "      <th>Title_Content</th>\n",
       "      <th>article_id</th>\n",
       "      <th>label</th>\n",
       "    </tr>\n",
       "  </thead>\n",
       "  <tbody>\n",
       "    <tr>\n",
       "      <th>0</th>\n",
       "      <td>Et tu, Rhody?  A recent editorial in the Provi...</td>\n",
       "      <td>727600136</td>\n",
       "      <td>non-propaganda</td>\n",
       "    </tr>\n",
       "    <tr>\n",
       "      <th>1</th>\n",
       "      <td>A recent post in The Farmington Mirror — our t...</td>\n",
       "      <td>731714618</td>\n",
       "      <td>non-propaganda</td>\n",
       "    </tr>\n",
       "    <tr>\n",
       "      <th>2</th>\n",
       "      <td>President Donald Trump, as he often does while...</td>\n",
       "      <td>731714635</td>\n",
       "      <td>non-propaganda</td>\n",
       "    </tr>\n",
       "    <tr>\n",
       "      <th>3</th>\n",
       "      <td>February is Black History Month, and nothing l...</td>\n",
       "      <td>728627182</td>\n",
       "      <td>non-propaganda</td>\n",
       "    </tr>\n",
       "    <tr>\n",
       "      <th>4</th>\n",
       "      <td>The snow was so heavy, whipped up by gusting w...</td>\n",
       "      <td>728627443</td>\n",
       "      <td>non-propaganda</td>\n",
       "    </tr>\n",
       "  </tbody>\n",
       "</table>\n",
       "</div>"
      ],
      "text/plain": [
       "                                       Title_Content  article_id  \\\n",
       "0  Et tu, Rhody?  A recent editorial in the Provi...   727600136   \n",
       "1  A recent post in The Farmington Mirror — our t...   731714618   \n",
       "2  President Donald Trump, as he often does while...   731714635   \n",
       "3  February is Black History Month, and nothing l...   728627182   \n",
       "4  The snow was so heavy, whipped up by gusting w...   728627443   \n",
       "\n",
       "            label  \n",
       "0  non-propaganda  \n",
       "1  non-propaganda  \n",
       "2  non-propaganda  \n",
       "3  non-propaganda  \n",
       "4  non-propaganda  "
      ]
     },
     "execution_count": 9,
     "metadata": {},
     "output_type": "execute_result"
    }
   ],
   "source": [
    "df.head(5)"
   ]
  },
  {
   "cell_type": "code",
   "execution_count": 10,
   "metadata": {},
   "outputs": [
    {
     "data": {
      "text/plain": [
       "non-propaganda    31965\n",
       "propaganda         4021\n",
       "Name: label, dtype: int64"
      ]
     },
     "execution_count": 10,
     "metadata": {},
     "output_type": "execute_result"
    }
   ],
   "source": [
    "df['label'].value_counts()"
   ]
  },
  {
   "cell_type": "code",
   "execution_count": 11,
   "metadata": {},
   "outputs": [
    {
     "data": {
      "text/plain": [
       "(35986, 3)"
      ]
     },
     "execution_count": 11,
     "metadata": {},
     "output_type": "execute_result"
    }
   ],
   "source": [
    "df.shape"
   ]
  },
  {
   "cell_type": "code",
   "execution_count": 12,
   "metadata": {},
   "outputs": [
    {
     "data": {
      "text/plain": [
       "Title_Content    0\n",
       "article_id       0\n",
       "label            0\n",
       "dtype: int64"
      ]
     },
     "execution_count": 12,
     "metadata": {},
     "output_type": "execute_result"
    }
   ],
   "source": [
    "df.isnull().sum()"
   ]
  },
  {
   "cell_type": "code",
   "execution_count": 13,
   "metadata": {},
   "outputs": [
    {
     "data": {
      "text/plain": [
       "Title_Content    0\n",
       "article_id       0\n",
       "label            0\n",
       "dtype: int64"
      ]
     },
     "execution_count": 13,
     "metadata": {},
     "output_type": "execute_result"
    }
   ],
   "source": [
    "df.isna().sum()"
   ]
  },
  {
   "cell_type": "code",
   "execution_count": 14,
   "metadata": {},
   "outputs": [
    {
     "data": {
      "text/plain": [
       "(35986, 3)"
      ]
     },
     "execution_count": 14,
     "metadata": {},
     "output_type": "execute_result"
    }
   ],
   "source": [
    "df.shape"
   ]
  },
  {
   "cell_type": "code",
   "execution_count": 15,
   "metadata": {},
   "outputs": [],
   "source": [
    "df = df.set_index(\"article_id\")"
   ]
  },
  {
   "cell_type": "code",
   "execution_count": 16,
   "metadata": {},
   "outputs": [
    {
     "data": {
      "text/html": [
       "<div>\n",
       "<style scoped>\n",
       "    .dataframe tbody tr th:only-of-type {\n",
       "        vertical-align: middle;\n",
       "    }\n",
       "\n",
       "    .dataframe tbody tr th {\n",
       "        vertical-align: top;\n",
       "    }\n",
       "\n",
       "    .dataframe thead th {\n",
       "        text-align: right;\n",
       "    }\n",
       "</style>\n",
       "<table border=\"1\" class=\"dataframe\">\n",
       "  <thead>\n",
       "    <tr style=\"text-align: right;\">\n",
       "      <th></th>\n",
       "      <th>Title_Content</th>\n",
       "      <th>label</th>\n",
       "    </tr>\n",
       "    <tr>\n",
       "      <th>article_id</th>\n",
       "      <th></th>\n",
       "      <th></th>\n",
       "    </tr>\n",
       "  </thead>\n",
       "  <tbody>\n",
       "    <tr>\n",
       "      <th>727600136</th>\n",
       "      <td>Et tu, Rhody?  A recent editorial in the Provi...</td>\n",
       "      <td>non-propaganda</td>\n",
       "    </tr>\n",
       "    <tr>\n",
       "      <th>731714618</th>\n",
       "      <td>A recent post in The Farmington Mirror — our t...</td>\n",
       "      <td>non-propaganda</td>\n",
       "    </tr>\n",
       "    <tr>\n",
       "      <th>731714635</th>\n",
       "      <td>President Donald Trump, as he often does while...</td>\n",
       "      <td>non-propaganda</td>\n",
       "    </tr>\n",
       "  </tbody>\n",
       "</table>\n",
       "</div>"
      ],
      "text/plain": [
       "                                                Title_Content           label\n",
       "article_id                                                                   \n",
       "727600136   Et tu, Rhody?  A recent editorial in the Provi...  non-propaganda\n",
       "731714618   A recent post in The Farmington Mirror — our t...  non-propaganda\n",
       "731714635   President Donald Trump, as he often does while...  non-propaganda"
      ]
     },
     "execution_count": 16,
     "metadata": {},
     "output_type": "execute_result"
    }
   ],
   "source": [
    "df.head(3)"
   ]
  },
  {
   "cell_type": "code",
   "execution_count": 17,
   "metadata": {},
   "outputs": [
    {
     "data": {
      "text/html": [
       "<div>\n",
       "<style scoped>\n",
       "    .dataframe tbody tr th:only-of-type {\n",
       "        vertical-align: middle;\n",
       "    }\n",
       "\n",
       "    .dataframe tbody tr th {\n",
       "        vertical-align: top;\n",
       "    }\n",
       "\n",
       "    .dataframe thead th {\n",
       "        text-align: right;\n",
       "    }\n",
       "</style>\n",
       "<table border=\"1\" class=\"dataframe\">\n",
       "  <thead>\n",
       "    <tr style=\"text-align: right;\">\n",
       "      <th></th>\n",
       "      <th>Title_Content</th>\n",
       "    </tr>\n",
       "    <tr>\n",
       "      <th>article_id</th>\n",
       "      <th></th>\n",
       "    </tr>\n",
       "  </thead>\n",
       "  <tbody>\n",
       "    <tr>\n",
       "      <th>727600136</th>\n",
       "      <td>Et tu, Rhody?  A recent editorial in the Provi...</td>\n",
       "    </tr>\n",
       "    <tr>\n",
       "      <th>731714618</th>\n",
       "      <td>A recent post in The Farmington Mirror — our t...</td>\n",
       "    </tr>\n",
       "  </tbody>\n",
       "</table>\n",
       "</div>"
      ],
      "text/plain": [
       "                                                Title_Content\n",
       "article_id                                                   \n",
       "727600136   Et tu, Rhody?  A recent editorial in the Provi...\n",
       "731714618   A recent post in The Farmington Mirror — our t..."
      ]
     },
     "execution_count": 17,
     "metadata": {},
     "output_type": "execute_result"
    }
   ],
   "source": [
    "y=df['label']\n",
    "df1 = df.drop('label',axis=1)\n",
    "df1.head(2)"
   ]
  },
  {
   "cell_type": "code",
   "execution_count": 18,
   "metadata": {},
   "outputs": [
    {
     "data": {
      "text/plain": [
       "Title_Content    0\n",
       "label            0\n",
       "dtype: int64"
      ]
     },
     "execution_count": 18,
     "metadata": {},
     "output_type": "execute_result"
    }
   ],
   "source": [
    "df.isnull().sum()"
   ]
  },
  {
   "cell_type": "code",
   "execution_count": 19,
   "metadata": {},
   "outputs": [],
   "source": [
    "X_train,X_test,y_train,y_test = train_test_split(df1['Title_Content'],y,test_size =0.3, random_state= 100)"
   ]
  },
  {
   "cell_type": "code",
   "execution_count": 20,
   "metadata": {},
   "outputs": [],
   "source": [
    "tfidf_vectorizer = TfidfVectorizer(stop_words='english')\n",
    "tfidf_vectorizer = TfidfVectorizer(stop_words='english', max_df=0.8)"
   ]
  },
  {
   "cell_type": "code",
   "execution_count": 21,
   "metadata": {},
   "outputs": [],
   "source": [
    "tfidf_train = tfidf_vectorizer.fit_transform(X_train)\n",
    "tfidf_train = tfidf_vectorizer.transform(X_train)\n",
    "tfidf_test = tfidf_vectorizer.transform(X_test)"
   ]
  },
  {
   "cell_type": "code",
   "execution_count": 22,
   "metadata": {},
   "outputs": [
    {
     "name": "stderr",
     "output_type": "stream",
     "text": [
      "C:\\Users\\Administrator\\Anaconda3\\lib\\site-packages\\sklearn\\linear_model\\stochastic_gradient.py:117: DeprecationWarning: n_iter parameter is deprecated in 0.19 and will be removed in 0.21. Use max_iter and tol instead.\n",
      "  DeprecationWarning)\n"
     ]
    },
    {
     "name": "stdout",
     "output_type": "stream",
     "text": [
      "accuracy:   0.960\n",
      "0.8020257826887661\n"
     ]
    }
   ],
   "source": [
    "linear_clf = PassiveAggressiveClassifier(n_iter=50)\n",
    "\n",
    "linear_clf.fit(tfidf_train, y_train)\n",
    "pred = linear_clf.predict(tfidf_test)\n",
    "score_pa_tfidf = metrics.accuracy_score(y_test, pred)\n",
    "score_pa_tfidf = round(score_pa_tfidf,3)\n",
    "print(\"accuracy:   %0.3f\" % score_pa_tfidf)\n",
    "tn,fp,fn,tp = metrics.confusion_matrix(y_test, pred, labels=['non-propaganda', 'propaganda']).ravel()\n",
    "R = (tp/(tp+fn)) # recall/sensitivity\n",
    "P = (tp/(tp+fp)) # precision\n",
    "F1_pa = (2*P*R)/(P+R)\n",
    "print(F1_pa)"
   ]
  },
  {
   "cell_type": "code",
   "execution_count": 23,
   "metadata": {},
   "outputs": [
    {
     "name": "stdout",
     "output_type": "stream",
     "text": [
      "accuracy:   0.943\n",
      "0.6644880174291938\n"
     ]
    }
   ],
   "source": [
    "lr = LogisticRegression()\n",
    "lr.fit(tfidf_train, y_train)\n",
    "pred = lr.predict(tfidf_test)\n",
    "score_lr_tfidf = metrics.accuracy_score(y_test, pred)\n",
    "score_lr_tfidf = round(score_lr_tfidf,3)\n",
    "print(\"accuracy:   %0.3f\" % score_lr_tfidf)\n",
    "# cm_lr_tfidf = metrics.confusion_matrix(y_test, pred, labels=['non-propaganda', 'propaganda'])\n",
    "tn,fp,fn,tp = metrics.confusion_matrix(y_test, pred, labels=['non-propaganda', 'propaganda']).ravel()\n",
    "R = (tp/(tp+fn)) # recall/sensitivity\n",
    "P = (tp/(tp+fp)) # precision\n",
    "F1_lr = (2*P*R)/(P+R)\n",
    "print(F1_lr)"
   ]
  },
  {
   "cell_type": "code",
   "execution_count": 24,
   "metadata": {},
   "outputs": [
    {
     "name": "stdout",
     "output_type": "stream",
     "text": [
      "accuracy:   0.946\n",
      "0.7298665439484584\n"
     ]
    }
   ],
   "source": [
    "clf = MultinomialNB(alpha=0.01)\n",
    "\n",
    "clf.fit(tfidf_train, y_train)\n",
    "\n",
    "pred = clf.predict(tfidf_test)\n",
    "score_nb_tfidf = metrics.accuracy_score(y_test, pred)\n",
    "score_nb_tfidf = round(score_nb_tfidf,3)\n",
    "print(\"accuracy:   %0.3f\" % score_nb_tfidf)\n",
    "tn,fp,fn,tp = metrics.confusion_matrix(y_test, pred, labels=['non-propaganda', 'propaganda']).ravel()\n",
    "R = (tp/(tp+fn)) # recall/sensitivity\n",
    "P = (tp/(tp+fp)) # precision\n",
    "F1_nb = (2*P*R)/(P+R)\n",
    "print(F1_nb)"
   ]
  },
  {
   "cell_type": "code",
   "execution_count": 25,
   "metadata": {},
   "outputs": [
    {
     "name": "stdout",
     "output_type": "stream",
     "text": [
      "accuracy:   0.912\n",
      "0.34396671289875175\n"
     ]
    }
   ],
   "source": [
    "rf = RandomForestClassifier(random_state=100)\n",
    "rf.fit(tfidf_train, y_train)\n",
    "pred = rf.predict(tfidf_test)\n",
    "score_rf_tfidf = metrics.accuracy_score(y_test, pred)\n",
    "score_rf_tfidf = round(score_rf_tfidf,3)\n",
    "print(\"accuracy:   %0.3f\" % score_rf_tfidf)\n",
    "tn,fp,fn,tp = metrics.confusion_matrix(y_test, pred, labels=['non-propaganda', 'propaganda']).ravel()\n",
    "R = (tp/(tp+fn)) # recall/sensitivity\n",
    "P = (tp/(tp+fp)) # precision\n",
    "F1_rf = (2*P*R)/(P+R)\n",
    "print(F1_rf)"
   ]
  },
  {
   "cell_type": "code",
   "execution_count": 26,
   "metadata": {},
   "outputs": [
    {
     "name": "stdout",
     "output_type": "stream",
     "text": [
      "accuracy:   0.922\n",
      "0.641860465116279\n"
     ]
    }
   ],
   "source": [
    "dt = DecisionTreeClassifier(random_state=100)\n",
    "dt.fit(tfidf_train, y_train)\n",
    "pred = dt.predict(tfidf_test)\n",
    "score_dt_tfidf = metrics.accuracy_score(y_test, pred)\n",
    "score_dt_tfidf = round(score_dt_tfidf,3)\n",
    "print(\"accuracy:   %0.3f\" % score_dt_tfidf)\n",
    "tn,fp,fn,tp = metrics.confusion_matrix(y_test, pred, labels=['non-propaganda', 'propaganda']).ravel()\n",
    "R = (tp/(tp+fn)) # recall/sensitivity\n",
    "P = (tp/(tp+fp)) # precision\n",
    "F1_dt = (2*P*R)/(P+R)\n",
    "print(F1_dt)"
   ]
  },
  {
   "cell_type": "code",
   "execution_count": 27,
   "metadata": {},
   "outputs": [
    {
     "name": "stdout",
     "output_type": "stream",
     "text": [
      "accuracy:   0.939\n",
      "0.678082191780822\n"
     ]
    }
   ],
   "source": [
    "ada = AdaBoostClassifier()\n",
    "ada.fit(tfidf_train, y_train)\n",
    "pred = ada.predict(tfidf_test)\n",
    "score_ada_tfidf = metrics.accuracy_score(y_test, pred)\n",
    "score_ada_tfidf = round(score_ada_tfidf,3)\n",
    "print(\"accuracy:   %0.3f\" % score_ada_tfidf)\n",
    "tn,fp,fn,tp = metrics.confusion_matrix(y_test, pred, labels=['non-propaganda', 'propaganda']).ravel()\n",
    "R = (tp/(tp+fn)) # recall/sensitivity\n",
    "P = (tp/(tp+fp)) # precision\n",
    "F1_ada = (2*P*R)/(P+R)\n",
    "print(F1_ada)"
   ]
  },
  {
   "cell_type": "code",
   "execution_count": 28,
   "metadata": {},
   "outputs": [
    {
     "name": "stdout",
     "output_type": "stream",
     "text": [
      "accuracy:   0.961\n",
      "0.8001885014137606\n"
     ]
    }
   ],
   "source": [
    "mlp = MLPClassifier(hidden_layer_sizes=(5,5,4)) \n",
    "mlp.fit(tfidf_train, y_train)\n",
    "pred = mlp.predict(tfidf_test)\n",
    "score = metrics.accuracy_score(y_test, pred)\n",
    "score_mlp_tfidf1=round(score,3)\n",
    "#print(score_knn_tfidf)\n",
    "print(\"accuracy:   %0.3f\" % score)\n",
    "tn,fp,fn,tp = metrics.confusion_matrix(y_test, pred, labels=['non-propaganda', 'propaganda']).ravel()\n",
    "R = (tp/(tp+fn)) # recall/sensitivity\n",
    "P = (tp/(tp+fp)) # precision\n",
    "F1_mlp = (2*P*R)/(P+R)\n",
    "print(F1_mlp)"
   ]
  },
  {
   "cell_type": "code",
   "execution_count": 29,
   "metadata": {},
   "outputs": [
    {
     "name": "stdout",
     "output_type": "stream",
     "text": [
      "accuracy:   0.925\n",
      "0.5534246575342466\n"
     ]
    }
   ],
   "source": [
    "knn = KNeighborsClassifier()\n",
    "knn.fit(tfidf_train, y_train)\n",
    "pred = knn.predict(tfidf_test)\n",
    "score = metrics.accuracy_score(y_test, pred)\n",
    "score_knn_tfidf=round(score,3)\n",
    "#print(score_knn_tfidf)\n",
    "print(\"accuracy:   %0.3f\" % score)\n",
    "tn,fp,fn,tp = metrics.confusion_matrix(y_test, pred, labels=['non-propaganda', 'propaganda']).ravel()\n",
    "R = (tp/(tp+fn)) # recall/sensitivity\n",
    "P = (tp/(tp+fp)) # precision\n",
    "F1_knn = (2*P*R)/(P+R)\n",
    "print(F1_knn)"
   ]
  },
  {
   "cell_type": "code",
   "execution_count": null,
   "metadata": {},
   "outputs": [],
   "source": [
    "# from sklearn.preprocessing import normalize\n",
    "# tfidf_train=normalize(tfidf_train)\n",
    "# tfidf_test=normalize(tfidf_test)\n",
    "svm1 = SVC(C=1.0,gamma=0.1,kernel='rbf',random_state=50)\n",
    "svm1.fit(tfidf_train, y_train)\n",
    "pred = svm1.predict(tfidf_test)\n",
    "score = metrics.accuracy_score(y_test, pred)\n",
    "score_svm_tfidf = round(score,3)\n",
    "print(\"accuracy:   %0.3f\" % score)\n",
    "tn,fp,fn,tp = metrics.confusion_matrix(y_test, pred, labels=['non-propaganda', 'propaganda']).ravel()\n",
    "R = (tp/(tp+fn)) # recall/sensitivity\n",
    "P = (tp/(tp+fp)) # precision\n",
    "F1_svm = (2*P*R)/(P+R)\n",
    "print(F1_svm)"
   ]
  },
  {
   "cell_type": "code",
   "execution_count": 67,
   "metadata": {},
   "outputs": [
    {
     "data": {
      "text/html": [
       "<div>\n",
       "<style scoped>\n",
       "    .dataframe tbody tr th:only-of-type {\n",
       "        vertical-align: middle;\n",
       "    }\n",
       "\n",
       "    .dataframe tbody tr th {\n",
       "        vertical-align: top;\n",
       "    }\n",
       "\n",
       "    .dataframe thead th {\n",
       "        text-align: right;\n",
       "    }\n",
       "</style>\n",
       "<table border=\"1\" class=\"dataframe\">\n",
       "  <thead>\n",
       "    <tr style=\"text-align: right;\">\n",
       "      <th></th>\n",
       "      <th>AdaBoost</th>\n",
       "      <th>DT</th>\n",
       "      <th>KNN</th>\n",
       "      <th>Logistic</th>\n",
       "      <th>MLP_NN</th>\n",
       "      <th>NB</th>\n",
       "      <th>Passive Aggresive</th>\n",
       "      <th>RF</th>\n",
       "      <th>SVM</th>\n",
       "    </tr>\n",
       "  </thead>\n",
       "  <tbody>\n",
       "    <tr>\n",
       "      <th>Model Accuracy</th>\n",
       "      <td>0.939</td>\n",
       "      <td>0.922</td>\n",
       "      <td>0.925</td>\n",
       "      <td>0.943</td>\n",
       "      <td>0.961</td>\n",
       "      <td>0.891</td>\n",
       "      <td>0.961</td>\n",
       "      <td>0.912</td>\n",
       "      <td>0.891</td>\n",
       "    </tr>\n",
       "  </tbody>\n",
       "</table>\n",
       "</div>"
      ],
      "text/plain": [
       "                AdaBoost     DT    KNN  Logistic  MLP_NN     NB  \\\n",
       "Model Accuracy     0.939  0.922  0.925     0.943   0.961  0.891   \n",
       "\n",
       "                Passive Aggresive     RF    SVM  \n",
       "Model Accuracy              0.961  0.912  0.891  "
      ]
     },
     "execution_count": 67,
     "metadata": {},
     "output_type": "execute_result"
    }
   ],
   "source": [
    "# acc = {'Passive Aggresive':score_pa_tfidf,'Logistic':score_lr_tfidf,'AdaBoost':score_ada_tfidf,'NB':score_nb_tfidf,\n",
    "#        'RF':score_rf_tfidf,'DT':score_dt_tfidf,'KNN':score_knn_tfidf,\"MLP_NN\":score_mlp_tfidf1,\"SVM\":score_svm_tfidf}\n",
    "# acc1 = pd.DataFrame([acc])\n",
    "# acc1.index=['Model Accuracy']\n",
    "# acc1"
   ]
  },
  {
   "cell_type": "code",
   "execution_count": 110,
   "metadata": {},
   "outputs": [
    {
     "data": {
      "text/html": [
       "<div>\n",
       "<style scoped>\n",
       "    .dataframe tbody tr th:only-of-type {\n",
       "        vertical-align: middle;\n",
       "    }\n",
       "\n",
       "    .dataframe tbody tr th {\n",
       "        vertical-align: top;\n",
       "    }\n",
       "\n",
       "    .dataframe thead th {\n",
       "        text-align: right;\n",
       "    }\n",
       "</style>\n",
       "<table border=\"1\" class=\"dataframe\">\n",
       "  <thead>\n",
       "    <tr style=\"text-align: right;\">\n",
       "      <th></th>\n",
       "      <th>AdaBoost</th>\n",
       "      <th>DT</th>\n",
       "      <th>KNN</th>\n",
       "      <th>Logistic</th>\n",
       "      <th>MLP_NN</th>\n",
       "      <th>NB</th>\n",
       "      <th>Passive Aggresive</th>\n",
       "      <th>RF</th>\n",
       "      <th>SVM</th>\n",
       "    </tr>\n",
       "  </thead>\n",
       "  <tbody>\n",
       "    <tr>\n",
       "      <th>Model Accuracy_tfidf</th>\n",
       "      <td>0.939000</td>\n",
       "      <td>0.92200</td>\n",
       "      <td>0.925000</td>\n",
       "      <td>0.943000</td>\n",
       "      <td>0.961000</td>\n",
       "      <td>0.946000</td>\n",
       "      <td>0.96000</td>\n",
       "      <td>0.912000</td>\n",
       "      <td>0.936000</td>\n",
       "    </tr>\n",
       "    <tr>\n",
       "      <th>F1 Score_tfidf</th>\n",
       "      <td>0.678082</td>\n",
       "      <td>0.64186</td>\n",
       "      <td>0.553425</td>\n",
       "      <td>0.664488</td>\n",
       "      <td>0.811738</td>\n",
       "      <td>0.729867</td>\n",
       "      <td>0.79963</td>\n",
       "      <td>0.343967</td>\n",
       "      <td>0.589001</td>\n",
       "    </tr>\n",
       "  </tbody>\n",
       "</table>\n",
       "</div>"
      ],
      "text/plain": [
       "                      AdaBoost       DT       KNN  Logistic    MLP_NN  \\\n",
       "Model Accuracy_tfidf  0.939000  0.92200  0.925000  0.943000  0.961000   \n",
       "F1 Score_tfidf        0.678082  0.64186  0.553425  0.664488  0.811738   \n",
       "\n",
       "                            NB  Passive Aggresive        RF       SVM  \n",
       "Model Accuracy_tfidf  0.946000            0.96000  0.912000  0.936000  \n",
       "F1 Score_tfidf        0.729867            0.79963  0.343967  0.589001  "
      ]
     },
     "execution_count": 110,
     "metadata": {},
     "output_type": "execute_result"
    }
   ],
   "source": [
    "acc2 = {'Passive Aggresive':score_pa_tfidf,'Logistic':score_lr_tfidf,'AdaBoost':score_ada_tfidf,'NB':score_nb_tfidf,\n",
    "       'RF':score_rf_tfidf,'DT':score_dt_tfidf,'KNN':score_knn_tfidf,\"MLP_NN\":score_mlp_tfidf1,\"SVM\":score_svm_tfidf}\n",
    "F1_tfidf = {'Passive Aggresive':F1_pa,'Logistic':F1_lr,'AdaBoost':F1_ada,'NB':F1_nb,\n",
    "      'RF':F1_rf,'DT':F1_dt,'KNN':F1_knn,\"MLP_NN\":F1_mlp,\"SVM\":F1_svm}\n",
    "acc_tfidf = pd.DataFrame([acc2,F1_tfidf])\n",
    "acc_tfidf.index=['Model Accuracy_tfidf','F1 Score_tfidf']\n",
    "acc_tfidf"
   ]
  },
  {
   "cell_type": "code",
   "execution_count": null,
   "metadata": {},
   "outputs": [],
   "source": [
    "# tn,fp,fn,tp = confusion_matrix(test_dy,test_pred).ravel() \n",
    "# sensitivity = (tp/(tp+fn))*100 # recall\n",
    "# specificity = (tn/(tn+fp))*100\n",
    "# accuracy = ((tp+tn)/(tp+tn+fp+fn))*100\n",
    "\n",
    "# tn,fp,fn,tp = metrics.confusion_matrix(y_test, pred, labels=['non-propaganda', 'propaganda']).ravel()\n",
    "# R = (tp/(tp+fn))*100 # recall\n",
    "# P = (tp/(tp+fp))*100 # precision\n",
    "# F1 = (2*P*R)/(P+R)\n",
    "# print(tn,fp,fn,tp,sensitivity,specificity, F1)"
   ]
  },
  {
   "cell_type": "markdown",
   "metadata": {},
   "source": [
    "### Building Count Vectorizer"
   ]
  },
  {
   "cell_type": "code",
   "execution_count": 44,
   "metadata": {},
   "outputs": [],
   "source": [
    "# Initialize the `count_vectorizer` \n",
    "count_vectorizer = CountVectorizer(stop_words='english')"
   ]
  },
  {
   "cell_type": "code",
   "execution_count": 45,
   "metadata": {},
   "outputs": [],
   "source": [
    "count_train = count_vectorizer.fit(X_train)\n",
    "count_train = count_vectorizer.transform(X_train)\n",
    "count_test = count_vectorizer.transform(X_test)"
   ]
  },
  {
   "cell_type": "code",
   "execution_count": 78,
   "metadata": {},
   "outputs": [
    {
     "name": "stdout",
     "output_type": "stream",
     "text": [
      "accuracy:   0.925\n",
      "0.6986964618249535\n"
     ]
    }
   ],
   "source": [
    "## Fitting Naive Baye's Classifier for Multinomial Model\n",
    "clf = MultinomialNB(alpha=0.01)\n",
    "clf.fit(count_train, y_train)\n",
    "pred = clf.predict(count_test)\n",
    "score_cnt_nb = metrics.accuracy_score(y_test, pred)\n",
    "score_cnt_nb = round(score_cnt_nb,3)\n",
    "print(\"accuracy:   %0.3f\" % score_cnt_nb)\n",
    "tn,fp,fn,tp = metrics.confusion_matrix(y_test, pred, labels=['non-propaganda', 'propaganda']).ravel()\n",
    "R = (tp/(tp+fn)) # recall/sensitivity\n",
    "P = (tp/(tp+fp)) # precision\n",
    "F1_nb_cnt = (2*P*R)/(P+R)\n",
    "print(F1_nb_cnt)"
   ]
  },
  {
   "cell_type": "code",
   "execution_count": 81,
   "metadata": {},
   "outputs": [
    {
     "name": "stderr",
     "output_type": "stream",
     "text": [
      "C:\\Users\\Administrator\\Anaconda3\\lib\\site-packages\\sklearn\\linear_model\\stochastic_gradient.py:117: DeprecationWarning: n_iter parameter is deprecated in 0.19 and will be removed in 0.21. Use max_iter and tol instead.\n",
      "  DeprecationWarning)\n"
     ]
    },
    {
     "name": "stdout",
     "output_type": "stream",
     "text": [
      "accuracy:   0.953\n",
      "0.7724631202503353\n"
     ]
    }
   ],
   "source": [
    "## Fitting Passive Aggresive Classifier Model\n",
    "\n",
    "linear_clf = PassiveAggressiveClassifier(n_iter=50)\n",
    "\n",
    "linear_clf.fit(count_train, y_train)\n",
    "pred = linear_clf.predict(count_test)\n",
    "score_cnt_pa = metrics.accuracy_score(y_test, pred)\n",
    "score_cnt_pa = round(score_cnt_pa,3)\n",
    "print(\"accuracy:   %0.3f\" % score_cnt_pa)\n",
    "tn,fp,fn,tp = metrics.confusion_matrix(y_test, pred, labels=['non-propaganda', 'propaganda']).ravel()\n",
    "R = (tp/(tp+fn)) # recall/sensitivity\n",
    "P = (tp/(tp+fp)) # precision\n",
    "F1_pa_cnt = (2*P*R)/(P+R)\n",
    "print(F1_pa_cnt)"
   ]
  },
  {
   "cell_type": "code",
   "execution_count": 82,
   "metadata": {},
   "outputs": [
    {
     "name": "stdout",
     "output_type": "stream",
     "text": [
      "accuracy:   0.914\n",
      "0.3796109993293092\n"
     ]
    }
   ],
   "source": [
    "rf = RandomForestClassifier(random_state=100)\n",
    "rf.fit(count_train, y_train)\n",
    "pred = rf.predict(count_test)\n",
    "score_cnt_rf = metrics.accuracy_score(y_test, pred)\n",
    "score_cnt_rf = round(score_cnt_rf,3)\n",
    "print(\"accuracy:   %0.3f\" % score_cnt_rf)\n",
    "tn,fp,fn,tp = metrics.confusion_matrix(y_test, pred, labels=['non-propaganda', 'propaganda']).ravel()\n",
    "R = (tp/(tp+fn)) # recall/sensitivity\n",
    "P = (tp/(tp+fp)) # precision\n",
    "F1_rf_cnt = (2*P*R)/(P+R)\n",
    "print(F1_rf_cnt)"
   ]
  },
  {
   "cell_type": "code",
   "execution_count": 83,
   "metadata": {},
   "outputs": [
    {
     "name": "stdout",
     "output_type": "stream",
     "text": [
      "accuracy:   0.908\n",
      "0.2875536480686695\n"
     ]
    }
   ],
   "source": [
    "dt = DecisionTreeClassifier(random_state=100,max_depth=2)\n",
    "dt.fit(count_train, y_train)\n",
    "pred = dt.predict(count_test)\n",
    "score_cnt_dt = metrics.accuracy_score(y_test, pred)\n",
    "score_cnt_dt = round(score_cnt_dt,3)\n",
    "print(\"accuracy:   %0.3f\" % score_cnt_dt)\n",
    "tn,fp,fn,tp = metrics.confusion_matrix(y_test, pred, labels=['non-propaganda', 'propaganda']).ravel()\n",
    "R = (tp/(tp+fn)) # recall/sensitivity\n",
    "P = (tp/(tp+fp)) # precision\n",
    "F1_dt_cnt = (2*P*R)/(P+R)\n",
    "print(F1_dt_cnt)"
   ]
  },
  {
   "cell_type": "code",
   "execution_count": 84,
   "metadata": {},
   "outputs": [
    {
     "name": "stdout",
     "output_type": "stream",
     "text": [
      "accuracy:   0.956\n",
      "0.7812354853692521\n"
     ]
    }
   ],
   "source": [
    "lr = LogisticRegression()\n",
    "lr.fit(count_train, y_train)\n",
    "pred = lr.predict(count_test)\n",
    "score_cnt_lr = metrics.accuracy_score(y_test, pred)\n",
    "score_cnt_lr = round(score_cnt_lr,3)\n",
    "print(\"accuracy:   %0.3f\" % score_cnt_lr)\n",
    "tn,fp,fn,tp = metrics.confusion_matrix(y_test, pred, labels=['non-propaganda', 'propaganda']).ravel()\n",
    "R = (tp/(tp+fn)) # recall/sensitivity\n",
    "P = (tp/(tp+fp)) # precision\n",
    "F1_lr_cnt = (2*P*R)/(P+R)\n",
    "print(F1_lr_cnt)"
   ]
  },
  {
   "cell_type": "code",
   "execution_count": 85,
   "metadata": {},
   "outputs": [
    {
     "name": "stdout",
     "output_type": "stream",
     "text": [
      "accuracy:   0.940\n",
      "0.6796019900497512\n"
     ]
    }
   ],
   "source": [
    "ada = AdaBoostClassifier()\n",
    "ada.fit(count_train, y_train)\n",
    "pred = ada.predict(count_test)\n",
    "score_cnt_ada = metrics.accuracy_score(y_test, pred)\n",
    "score_cnt_ada = round(score_cnt_ada,3)\n",
    "print(\"accuracy:   %0.3f\" % score_cnt_ada)\n",
    "tn,fp,fn,tp = metrics.confusion_matrix(y_test, pred, labels=['non-propaganda', 'propaganda']).ravel()\n",
    "R = (tp/(tp+fn)) # recall/sensitivity\n",
    "P = (tp/(tp+fp)) # precision\n",
    "F1_ada_cnt = (2*P*R)/(P+R)\n",
    "print(F1_ada_cnt)"
   ]
  },
  {
   "cell_type": "code",
   "execution_count": 55,
   "metadata": {},
   "outputs": [
    {
     "name": "stdout",
     "output_type": "stream",
     "text": [
      "accuracy:   0.954\n",
      "0.7805309734513275\n"
     ]
    }
   ],
   "source": [
    "mlp = MLPClassifier(hidden_layer_sizes=(5,5,2)) # initially(554_0.787)(573_0.556)(544_96.1)\n",
    "mlp.fit(count_train, y_train)\n",
    "pred = mlp.predict(count_test)\n",
    "score= metrics.accuracy_score(y_test, pred)\n",
    "score_cnt_mlp=round(score,3)\n",
    "#print(score_knn_tfidf)\n",
    "print(\"accuracy:   %0.3f\" % score)\n",
    "tn,fp,fn,tp = metrics.confusion_matrix(y_test, pred, labels=['non-propaganda', 'propaganda']).ravel()\n",
    "R = (tp/(tp+fn)) # recall/sensitivity\n",
    "P = (tp/(tp+fp)) # precision\n",
    "F1_mlp_cnt = (2*P*R)/(P+R)\n",
    "print(F1_mlp_cnt)"
   ]
  },
  {
   "cell_type": "code",
   "execution_count": 117,
   "metadata": {},
   "outputs": [
    {
     "name": "stdout",
     "output_type": "stream",
     "text": [
      "accuracy:   0.801\n",
      "0.11303630363036304\n"
     ]
    }
   ],
   "source": [
    "svm1 = SVC(C=1.0,gamma=0.1,kernel='sigmoid',random_state=50)\n",
    "svm1.fit(count_train, y_train)\n",
    "pred = svm1.predict(count_test)\n",
    "score_cnt_svm1 = metrics.accuracy_score(y_test, pred)\n",
    "score_cnt_svm1 = round(score_cnt_svm1,3)\n",
    "print(\"accuracy:   %0.3f\" % score_cnt_svm1)\n",
    "tn,fp,fn,tp = metrics.confusion_matrix(y_test, pred, labels=['non-propaganda', 'propaganda']).ravel()\n",
    "R = (tp/(tp+fn)) # recall/sensitivity\n",
    "P = (tp/(tp+fp)) # precision\n",
    "F1_svm_cnt = (2*P*R)/(P+R)\n",
    "print(F1_svm_cnt)"
   ]
  },
  {
   "cell_type": "code",
   "execution_count": 87,
   "metadata": {},
   "outputs": [
    {
     "name": "stdout",
     "output_type": "stream",
     "text": [
      "accuracy:   0.898\n",
      "0.16067329762815608\n"
     ]
    }
   ],
   "source": [
    "knn = KNeighborsClassifier()\n",
    "knn.fit(count_train, y_train)\n",
    "pred = knn.predict(count_test)\n",
    "score_cnt_knn = metrics.accuracy_score(y_test, pred)\n",
    "score_cnt_knn = round(score_cnt_knn,3)\n",
    "print(\"accuracy:   %0.3f\" % score_cnt_knn)\n",
    "tn,fp,fn,tp = metrics.confusion_matrix(y_test, pred, labels=['non-propaganda', 'propaganda']).ravel()\n",
    "R = (tp/(tp+fn)) # recall/sensitivity\n",
    "P = (tp/(tp+fp)) # precision\n",
    "F1_knn_cnt = (2*P*R)/(P+R)\n",
    "print(F1_knn_cnt)"
   ]
  },
  {
   "cell_type": "code",
   "execution_count": 118,
   "metadata": {},
   "outputs": [
    {
     "data": {
      "text/html": [
       "<div>\n",
       "<style scoped>\n",
       "    .dataframe tbody tr th:only-of-type {\n",
       "        vertical-align: middle;\n",
       "    }\n",
       "\n",
       "    .dataframe tbody tr th {\n",
       "        vertical-align: top;\n",
       "    }\n",
       "\n",
       "    .dataframe thead th {\n",
       "        text-align: right;\n",
       "    }\n",
       "</style>\n",
       "<table border=\"1\" class=\"dataframe\">\n",
       "  <thead>\n",
       "    <tr style=\"text-align: right;\">\n",
       "      <th></th>\n",
       "      <th>AdaBoost</th>\n",
       "      <th>DT</th>\n",
       "      <th>KNN</th>\n",
       "      <th>Logistic</th>\n",
       "      <th>MLP_NN</th>\n",
       "      <th>NB</th>\n",
       "      <th>Passive Aggresive</th>\n",
       "      <th>RF</th>\n",
       "      <th>SVM</th>\n",
       "    </tr>\n",
       "  </thead>\n",
       "  <tbody>\n",
       "    <tr>\n",
       "      <th>Model Accuracy_cnt</th>\n",
       "      <td>0.940000</td>\n",
       "      <td>0.908000</td>\n",
       "      <td>0.898000</td>\n",
       "      <td>0.956000</td>\n",
       "      <td>0.954000</td>\n",
       "      <td>0.925000</td>\n",
       "      <td>0.953000</td>\n",
       "      <td>0.914000</td>\n",
       "      <td>0.801000</td>\n",
       "    </tr>\n",
       "    <tr>\n",
       "      <th>F1 Score_cnt</th>\n",
       "      <td>0.679602</td>\n",
       "      <td>0.287554</td>\n",
       "      <td>0.160673</td>\n",
       "      <td>0.781235</td>\n",
       "      <td>0.780531</td>\n",
       "      <td>0.698696</td>\n",
       "      <td>0.772463</td>\n",
       "      <td>0.379611</td>\n",
       "      <td>0.113036</td>\n",
       "    </tr>\n",
       "  </tbody>\n",
       "</table>\n",
       "</div>"
      ],
      "text/plain": [
       "                    AdaBoost        DT       KNN  Logistic    MLP_NN  \\\n",
       "Model Accuracy_cnt  0.940000  0.908000  0.898000  0.956000  0.954000   \n",
       "F1 Score_cnt        0.679602  0.287554  0.160673  0.781235  0.780531   \n",
       "\n",
       "                          NB  Passive Aggresive        RF       SVM  \n",
       "Model Accuracy_cnt  0.925000           0.953000  0.914000  0.801000  \n",
       "F1 Score_cnt        0.698696           0.772463  0.379611  0.113036  "
      ]
     },
     "execution_count": 118,
     "metadata": {},
     "output_type": "execute_result"
    }
   ],
   "source": [
    "acc1 = {'Passive Aggresive':score_cnt_pa,'Logistic':score_cnt_lr,'AdaBoost':score_cnt_ada,'NB':score_cnt_nb,\n",
    "       'RF':score_cnt_rf,'DT':score_cnt_dt,'KNN':score_cnt_knn,\"MLP_NN\":score_cnt_mlp,\"SVM\":score_cnt_svm1}\n",
    "\n",
    "F1_cnt = {'Passive Aggresive':F1_pa_cnt,'Logistic':F1_lr_cnt,'AdaBoost':F1_ada_cnt,'NB':F1_nb_cnt,\n",
    "          'RF':F1_rf_cnt,'DT':F1_dt_cnt,'KNN':F1_knn_cnt,\"MLP_NN\":F1_mlp_cnt,\"SVM\":F1_svm_cnt}\n",
    "acc_cnt = pd.DataFrame([acc1,F1_cnt])\n",
    "acc_cnt.index=['Model Accuracy_cnt','F1 Score_cnt']\n",
    "acc_cnt"
   ]
  },
  {
   "cell_type": "code",
   "execution_count": 63,
   "metadata": {},
   "outputs": [],
   "source": [
    "hashing_vectorizer = HashingVectorizer(stop_words='english', non_negative=True)"
   ]
  },
  {
   "cell_type": "code",
   "execution_count": 69,
   "metadata": {},
   "outputs": [
    {
     "name": "stderr",
     "output_type": "stream",
     "text": [
      "C:\\Users\\Administrator\\Anaconda3\\lib\\site-packages\\sklearn\\feature_extraction\\hashing.py:94: DeprecationWarning: the option non_negative=True has been deprecated in 0.19 and will be removed in version 0.21.\n",
      "  \" in version 0.21.\", DeprecationWarning)\n",
      "C:\\Users\\Administrator\\Anaconda3\\lib\\site-packages\\sklearn\\feature_extraction\\hashing.py:94: DeprecationWarning: the option non_negative=True has been deprecated in 0.19 and will be removed in version 0.21.\n",
      "  \" in version 0.21.\", DeprecationWarning)\n",
      "C:\\Users\\Administrator\\Anaconda3\\lib\\site-packages\\sklearn\\feature_extraction\\hashing.py:94: DeprecationWarning: the option non_negative=True has been deprecated in 0.19 and will be removed in version 0.21.\n",
      "  \" in version 0.21.\", DeprecationWarning)\n"
     ]
    }
   ],
   "source": [
    "hash_train = hashing_vectorizer.fit(X_train)\n",
    "hash_train = hashing_vectorizer.transform(X_train)\n",
    "hash_test = hashing_vectorizer.transform(X_test)"
   ]
  },
  {
   "cell_type": "code",
   "execution_count": 90,
   "metadata": {},
   "outputs": [
    {
     "name": "stdout",
     "output_type": "stream",
     "text": [
      "accuracy:   0.941\n",
      "0.6874695270599707\n"
     ]
    }
   ],
   "source": [
    "ada = AdaBoostClassifier()\n",
    "ada.fit(hash_train, y_train)\n",
    "pred = ada.predict(hash_test)\n",
    "score_hash_ada = metrics.accuracy_score(y_test, pred)\n",
    "score_hash_ada = round(score_hash_ada,3)\n",
    "print(\"accuracy:   %0.3f\" % score_hash_ada)\n",
    "tn,fp,fn,tp = metrics.confusion_matrix(y_test, pred, labels=['non-propaganda', 'propaganda']).ravel()\n",
    "R = (tp/(tp+fn)) # recall/sensitivity\n",
    "P = (tp/(tp+fp)) # precision\n",
    "F1_ada_hash = (2*P*R)/(P+R)\n",
    "print(F1_ada_hash)"
   ]
  },
  {
   "cell_type": "code",
   "execution_count": 92,
   "metadata": {},
   "outputs": [
    {
     "name": "stdout",
     "output_type": "stream",
     "text": [
      "accuracy:   0.908\n",
      "0.2875536480686695\n"
     ]
    }
   ],
   "source": [
    "dt = DecisionTreeClassifier(random_state=100,max_depth=2)\n",
    "dt.fit(hash_train, y_train)\n",
    "pred = dt.predict(hash_test)\n",
    "score_hash_dt = metrics.accuracy_score(y_test, pred)\n",
    "score_hash_dt = round(score_hash_dt,3)\n",
    "print(\"accuracy:   %0.3f\" % score_hash_dt)\n",
    "tn,fp,fn,tp = metrics.confusion_matrix(y_test, pred, labels=['non-propaganda', 'propaganda']).ravel()\n",
    "R = (tp/(tp+fn)) # recall/sensitivity\n",
    "P = (tp/(tp+fp)) # precision\n",
    "F1_dt_hash = (2*P*R)/(P+R)\n",
    "print(F1_dt_hash)"
   ]
  },
  {
   "cell_type": "code",
   "execution_count": 93,
   "metadata": {},
   "outputs": [
    {
     "name": "stdout",
     "output_type": "stream",
     "text": [
      "accuracy:   0.929\n",
      "0.5949367088607594\n"
     ]
    }
   ],
   "source": [
    "knn = KNeighborsClassifier()\n",
    "knn.fit(hash_train, y_train)\n",
    "pred = knn.predict(hash_test)\n",
    "score_hash_knn = metrics.accuracy_score(y_test, pred)\n",
    "score_hash_knn = round(score_hash_knn,3)\n",
    "print(\"accuracy:   %0.3f\" % score_hash_knn)\n",
    "tn,fp,fn,tp = metrics.confusion_matrix(y_test, pred, labels=['non-propaganda', 'propaganda']).ravel()\n",
    "R = (tp/(tp+fn)) # recall/sensitivity\n",
    "P = (tp/(tp+fp)) # precision\n",
    "F1_knn_hash = (2*P*R)/(P+R)\n",
    "print(F1_knn_hash)"
   ]
  },
  {
   "cell_type": "code",
   "execution_count": 94,
   "metadata": {},
   "outputs": [
    {
     "name": "stdout",
     "output_type": "stream",
     "text": [
      "accuracy:   0.944\n",
      "0.6842105263157894\n"
     ]
    }
   ],
   "source": [
    "lr = LogisticRegression()\n",
    "lr.fit(hash_train, y_train)\n",
    "pred = lr.predict(hash_test)\n",
    "score_hash_lr = metrics.accuracy_score(y_test, pred)\n",
    "score_hash_lr = round(score_hash_lr,3)\n",
    "print(\"accuracy:   %0.3f\" % score_hash_lr)\n",
    "tn,fp,fn,tp = metrics.confusion_matrix(y_test, pred, labels=['non-propaganda', 'propaganda']).ravel()\n",
    "R = (tp/(tp+fn)) # recall/sensitivity\n",
    "P = (tp/(tp+fp)) # precision\n",
    "F1_lr_hash = (2*P*R)/(P+R)\n",
    "print(F1_lr_hash)"
   ]
  },
  {
   "cell_type": "code",
   "execution_count": 95,
   "metadata": {},
   "outputs": [
    {
     "name": "stdout",
     "output_type": "stream",
     "text": [
      "accuracy:   0.956\n",
      "0.7643248629795715\n"
     ]
    },
    {
     "name": "stderr",
     "output_type": "stream",
     "text": [
      "C:\\Users\\Administrator\\Anaconda3\\lib\\site-packages\\sklearn\\neural_network\\multilayer_perceptron.py:566: UserWarning: Training interrupted by user.\n",
      "  warnings.warn(\"Training interrupted by user.\")\n"
     ]
    }
   ],
   "source": [
    "mlp = MLPClassifier(hidden_layer_sizes=(5,4,4)) # initially(554_0.787)(573_0.556)(544_96.1)\n",
    "mlp.fit(hash_train, y_train)\n",
    "pred = mlp.predict(hash_test)\n",
    "score_hash_mlp= metrics.accuracy_score(y_test, pred)\n",
    "score_hash_mlp=round(score_hash_mlp,3)\n",
    "#print(score_knn_tfidf)\n",
    "print(\"accuracy:   %0.3f\" % score_hash_mlp)\n",
    "tn,fp,fn,tp = metrics.confusion_matrix(y_test, pred, labels=['non-propaganda', 'propaganda']).ravel()\n",
    "R = (tp/(tp+fn)) # recall/sensitivity\n",
    "P = (tp/(tp+fp)) # precision\n",
    "F1_mlp_hash = (2*P*R)/(P+R)\n",
    "print(F1_mlp_hash)"
   ]
  },
  {
   "cell_type": "code",
   "execution_count": 96,
   "metadata": {},
   "outputs": [
    {
     "name": "stdout",
     "output_type": "stream",
     "text": [
      "accuracy:   0.891\n",
      "0.49092047589229804\n"
     ]
    }
   ],
   "source": [
    "clf = MultinomialNB(alpha=0.01)\n",
    "clf.fit(hash_train, y_train)\n",
    "pred = clf.predict(hash_test)\n",
    "score_hash_nb = metrics.accuracy_score(y_test, pred)\n",
    "score_hash_nb = round(score_hash_nb,3)\n",
    "print(\"accuracy:   %0.3f\" % score)\n",
    "tn,fp,fn,tp = metrics.confusion_matrix(y_test, pred, labels=['non-propaganda', 'propaganda']).ravel()\n",
    "R = (tp/(tp+fn)) # recall/sensitivity\n",
    "P = (tp/(tp+fp)) # precision\n",
    "F1_nb_hash = (2*P*R)/(P+R)\n",
    "print(F1_nb_hash)"
   ]
  },
  {
   "cell_type": "code",
   "execution_count": 72,
   "metadata": {},
   "outputs": [
    {
     "name": "stderr",
     "output_type": "stream",
     "text": [
      "C:\\Users\\Administrator\\Anaconda3\\lib\\site-packages\\sklearn\\linear_model\\stochastic_gradient.py:117: DeprecationWarning: n_iter parameter is deprecated in 0.19 and will be removed in 0.21. Use max_iter and tol instead.\n",
      "  DeprecationWarning)\n"
     ]
    },
    {
     "name": "stdout",
     "output_type": "stream",
     "text": [
      "accuracy:   0.957\n",
      "0.7887323943661971\n"
     ]
    }
   ],
   "source": [
    "linear_clf = PassiveAggressiveClassifier(n_iter=50)\n",
    "\n",
    "linear_clf.fit(hash_train, y_train)\n",
    "pred = linear_clf.predict(hash_test)\n",
    "score_hash_pa = metrics.accuracy_score(y_test, pred)\n",
    "score_hash_pa = round(score_hash_pa,3)\n",
    "print(\"accuracy:   %0.3f\" % score_hash_pa)\n",
    "tn,fp,fn,tp = metrics.confusion_matrix(y_test, pred, labels=['non-propaganda', 'propaganda']).ravel()\n",
    "R = (tp/(tp+fn)) # recall/sensitivity\n",
    "P = (tp/(tp+fp)) # precision\n",
    "F1_pa_hash = (2*P*R)/(P+R)\n",
    "print(F1_pa_hash)"
   ]
  },
  {
   "cell_type": "code",
   "execution_count": 73,
   "metadata": {},
   "outputs": [
    {
     "name": "stdout",
     "output_type": "stream",
     "text": [
      "accuracy:   0.906\n",
      "0.25387453874538746\n"
     ]
    }
   ],
   "source": [
    "rf = RandomForestClassifier(random_state=100)\n",
    "rf.fit(hash_train, y_train)\n",
    "pred = rf.predict(hash_test)\n",
    "score_hash_rf = metrics.accuracy_score(y_test, pred)\n",
    "score_hash_rf = round(score_hash_rf,3)\n",
    "print(\"accuracy:   %0.3f\" % score_hash_rf)\n",
    "tn,fp,fn,tp = metrics.confusion_matrix(y_test, pred, labels=['non-propaganda', 'propaganda']).ravel()\n",
    "R = (tp/(tp+fn)) # recall/sensitivity\n",
    "P = (tp/(tp+fp)) # precision\n",
    "F1_rf_hash = (2*P*R)/(P+R)\n",
    "print(F1_rf_hash)"
   ]
  },
  {
   "cell_type": "code",
   "execution_count": 112,
   "metadata": {},
   "outputs": [
    {
     "name": "stdout",
     "output_type": "stream",
     "text": [
      "accuracy:   0.938\n",
      "0.6186392224128072\n"
     ]
    }
   ],
   "source": [
    "svm1 = SVC(C=1.0,gamma=0.1,kernel='rbf',random_state=50)\n",
    "svm1.fit(hash_train, y_train)\n",
    "pred = svm1.predict(hash_test)\n",
    "score_hash_svm1 = metrics.accuracy_score(y_test, pred)\n",
    "score_hash_svm1 = round(score_hash_svm1,3)\n",
    "print(\"accuracy:   %0.3f\" % score_hash_svm1)\n",
    "tn,fp,fn,tp = metrics.confusion_matrix(y_test, pred, labels=['non-propaganda', 'propaganda']).ravel()\n",
    "R = (tp/(tp+fn)) # recall/sensitivity\n",
    "P = (tp/(tp+fp)) # precision\n",
    "F1_svm_hash = (2*P*R)/(P+R)\n",
    "print(F1_svm_hash)"
   ]
  },
  {
   "cell_type": "code",
   "execution_count": 127,
   "metadata": {},
   "outputs": [
    {
     "data": {
      "text/html": [
       "<div>\n",
       "<style scoped>\n",
       "    .dataframe tbody tr th:only-of-type {\n",
       "        vertical-align: middle;\n",
       "    }\n",
       "\n",
       "    .dataframe tbody tr th {\n",
       "        vertical-align: top;\n",
       "    }\n",
       "\n",
       "    .dataframe thead th {\n",
       "        text-align: right;\n",
       "    }\n",
       "</style>\n",
       "<table border=\"1\" class=\"dataframe\">\n",
       "  <thead>\n",
       "    <tr style=\"text-align: right;\">\n",
       "      <th></th>\n",
       "      <th>AdaBoost</th>\n",
       "      <th>DT</th>\n",
       "      <th>KNN</th>\n",
       "      <th>Logistic</th>\n",
       "      <th>MLP_NN</th>\n",
       "      <th>NB</th>\n",
       "      <th>Passive Aggresive</th>\n",
       "      <th>RF</th>\n",
       "      <th>SVM</th>\n",
       "    </tr>\n",
       "  </thead>\n",
       "  <tbody>\n",
       "    <tr>\n",
       "      <th>Model Accuracy_hash</th>\n",
       "      <td>0.94100</td>\n",
       "      <td>0.908000</td>\n",
       "      <td>0.929000</td>\n",
       "      <td>0.944000</td>\n",
       "      <td>0.956000</td>\n",
       "      <td>0.92500</td>\n",
       "      <td>0.957000</td>\n",
       "      <td>0.906000</td>\n",
       "      <td>0.938000</td>\n",
       "    </tr>\n",
       "    <tr>\n",
       "      <th>F1 Score_hash</th>\n",
       "      <td>0.68747</td>\n",
       "      <td>0.287554</td>\n",
       "      <td>0.594937</td>\n",
       "      <td>0.684211</td>\n",
       "      <td>0.764325</td>\n",
       "      <td>0.49092</td>\n",
       "      <td>0.788732</td>\n",
       "      <td>0.253875</td>\n",
       "      <td>0.618639</td>\n",
       "    </tr>\n",
       "  </tbody>\n",
       "</table>\n",
       "</div>"
      ],
      "text/plain": [
       "                     AdaBoost        DT       KNN  Logistic    MLP_NN  \\\n",
       "Model Accuracy_hash   0.94100  0.908000  0.929000  0.944000  0.956000   \n",
       "F1 Score_hash         0.68747  0.287554  0.594937  0.684211  0.764325   \n",
       "\n",
       "                          NB  Passive Aggresive        RF       SVM  \n",
       "Model Accuracy_hash  0.92500           0.957000  0.906000  0.938000  \n",
       "F1 Score_hash        0.49092           0.788732  0.253875  0.618639  "
      ]
     },
     "execution_count": 127,
     "metadata": {},
     "output_type": "execute_result"
    }
   ],
   "source": [
    "acc3 = {'Passive Aggresive':score_hash_pa,'Logistic':score_hash_lr,'AdaBoost':score_hash_ada,'NB':score_hash_nb,\n",
    "       'RF':score_hash_rf,'DT':score_hash_dt,'KNN':score_hash_knn,\"MLP_NN\":score_hash_mlp,\"SVM\":score_hash_svm1}\n",
    "\n",
    "F1_hash = {'Passive Aggresive':F1_pa_hash,'Logistic':F1_lr_hash,'AdaBoost':F1_ada_hash,'NB':F1_nb_hash,\n",
    "          'RF':F1_rf_hash,'DT':F1_dt_hash,'KNN':F1_knn_hash,\"MLP_NN\":F1_mlp_hash,\"SVM\":F1_svm_hash}\n",
    "acc_hash = pd.DataFrame([acc3,F1_hash])\n",
    "acc_hash.index=['Model Accuracy_hash','F1 Score_hash']\n",
    "acc_hash"
   ]
  },
  {
   "cell_type": "code",
   "execution_count": 142,
   "metadata": {},
   "outputs": [
    {
     "data": {
      "text/html": [
       "<div>\n",
       "<style scoped>\n",
       "    .dataframe tbody tr th:only-of-type {\n",
       "        vertical-align: middle;\n",
       "    }\n",
       "\n",
       "    .dataframe tbody tr th {\n",
       "        vertical-align: top;\n",
       "    }\n",
       "\n",
       "    .dataframe thead th {\n",
       "        text-align: right;\n",
       "    }\n",
       "</style>\n",
       "<table border=\"1\" class=\"dataframe\">\n",
       "  <thead>\n",
       "    <tr style=\"text-align: right;\">\n",
       "      <th></th>\n",
       "      <th>AdaBoost</th>\n",
       "      <th>DT</th>\n",
       "      <th>KNN</th>\n",
       "      <th>Logistic</th>\n",
       "      <th>MLP_NN</th>\n",
       "      <th>NB</th>\n",
       "      <th>Passive Aggresive</th>\n",
       "      <th>RF</th>\n",
       "      <th>SVM</th>\n",
       "    </tr>\n",
       "  </thead>\n",
       "  <tbody>\n",
       "    <tr>\n",
       "      <th>Model Accuracy_cnt</th>\n",
       "      <td>0.940000</td>\n",
       "      <td>0.908000</td>\n",
       "      <td>0.898000</td>\n",
       "      <td>0.956000</td>\n",
       "      <td>0.954000</td>\n",
       "      <td>0.925000</td>\n",
       "      <td>0.953000</td>\n",
       "      <td>0.914000</td>\n",
       "      <td>0.801000</td>\n",
       "    </tr>\n",
       "    <tr>\n",
       "      <th>F1 Score_cnt</th>\n",
       "      <td>0.679602</td>\n",
       "      <td>0.287554</td>\n",
       "      <td>0.160673</td>\n",
       "      <td>0.781235</td>\n",
       "      <td>0.780531</td>\n",
       "      <td>0.698696</td>\n",
       "      <td>0.772463</td>\n",
       "      <td>0.379611</td>\n",
       "      <td>0.113036</td>\n",
       "    </tr>\n",
       "    <tr>\n",
       "      <th>Model Accuracy_tfidf</th>\n",
       "      <td>0.939000</td>\n",
       "      <td>0.922000</td>\n",
       "      <td>0.925000</td>\n",
       "      <td>0.943000</td>\n",
       "      <td>0.961000</td>\n",
       "      <td>0.946000</td>\n",
       "      <td>0.960000</td>\n",
       "      <td>0.912000</td>\n",
       "      <td>0.936000</td>\n",
       "    </tr>\n",
       "    <tr>\n",
       "      <th>F1 Score_tfidf</th>\n",
       "      <td>0.678082</td>\n",
       "      <td>0.641860</td>\n",
       "      <td>0.553425</td>\n",
       "      <td>0.664488</td>\n",
       "      <td>0.811738</td>\n",
       "      <td>0.729867</td>\n",
       "      <td>0.799630</td>\n",
       "      <td>0.343967</td>\n",
       "      <td>0.589001</td>\n",
       "    </tr>\n",
       "    <tr>\n",
       "      <th>Model Accuracy_hash</th>\n",
       "      <td>0.941000</td>\n",
       "      <td>0.908000</td>\n",
       "      <td>0.929000</td>\n",
       "      <td>0.944000</td>\n",
       "      <td>0.956000</td>\n",
       "      <td>0.925000</td>\n",
       "      <td>0.957000</td>\n",
       "      <td>0.906000</td>\n",
       "      <td>0.938000</td>\n",
       "    </tr>\n",
       "    <tr>\n",
       "      <th>F1 Score_hash</th>\n",
       "      <td>0.687470</td>\n",
       "      <td>0.287554</td>\n",
       "      <td>0.594937</td>\n",
       "      <td>0.684211</td>\n",
       "      <td>0.764325</td>\n",
       "      <td>0.490920</td>\n",
       "      <td>0.788732</td>\n",
       "      <td>0.253875</td>\n",
       "      <td>0.618639</td>\n",
       "    </tr>\n",
       "  </tbody>\n",
       "</table>\n",
       "</div>"
      ],
      "text/plain": [
       "                      AdaBoost        DT       KNN  Logistic    MLP_NN  \\\n",
       "Model Accuracy_cnt    0.940000  0.908000  0.898000  0.956000  0.954000   \n",
       "F1 Score_cnt          0.679602  0.287554  0.160673  0.781235  0.780531   \n",
       "Model Accuracy_tfidf  0.939000  0.922000  0.925000  0.943000  0.961000   \n",
       "F1 Score_tfidf        0.678082  0.641860  0.553425  0.664488  0.811738   \n",
       "Model Accuracy_hash   0.941000  0.908000  0.929000  0.944000  0.956000   \n",
       "F1 Score_hash         0.687470  0.287554  0.594937  0.684211  0.764325   \n",
       "\n",
       "                            NB  Passive Aggresive        RF       SVM  \n",
       "Model Accuracy_cnt    0.925000           0.953000  0.914000  0.801000  \n",
       "F1 Score_cnt          0.698696           0.772463  0.379611  0.113036  \n",
       "Model Accuracy_tfidf  0.946000           0.960000  0.912000  0.936000  \n",
       "F1 Score_tfidf        0.729867           0.799630  0.343967  0.589001  \n",
       "Model Accuracy_hash   0.925000           0.957000  0.906000  0.938000  \n",
       "F1 Score_hash         0.490920           0.788732  0.253875  0.618639  "
      ]
     },
     "execution_count": 142,
     "metadata": {},
     "output_type": "execute_result"
    }
   ],
   "source": [
    "performance = acc_cnt\n",
    "performance=performance.append(acc_tfidf, ignore_index=False)\n",
    "p=performance.append(acc_hash, ignore_index=False)\n",
    "p"
   ]
  },
  {
   "cell_type": "code",
   "execution_count": 140,
   "metadata": {},
   "outputs": [],
   "source": [
    "p.to_csv(\"C:/Users/Administrator/Downloads/v5/table1.train.csv\", encoding='utf-8')"
   ]
  },
  {
   "cell_type": "code",
   "execution_count": 128,
   "metadata": {},
   "outputs": [
    {
     "data": {
      "text/html": [
       "<div>\n",
       "<style scoped>\n",
       "    .dataframe tbody tr th:only-of-type {\n",
       "        vertical-align: middle;\n",
       "    }\n",
       "\n",
       "    .dataframe tbody tr th {\n",
       "        vertical-align: top;\n",
       "    }\n",
       "\n",
       "    .dataframe thead th {\n",
       "        text-align: right;\n",
       "    }\n",
       "</style>\n",
       "<table border=\"1\" class=\"dataframe\">\n",
       "  <thead>\n",
       "    <tr style=\"text-align: right;\">\n",
       "      <th></th>\n",
       "      <th>AdaBoost</th>\n",
       "      <th>DT</th>\n",
       "      <th>KNN</th>\n",
       "      <th>Logistic</th>\n",
       "      <th>MLP_NN</th>\n",
       "      <th>NB</th>\n",
       "      <th>Passive Aggresive</th>\n",
       "      <th>RF</th>\n",
       "      <th>SVM</th>\n",
       "    </tr>\n",
       "  </thead>\n",
       "  <tbody>\n",
       "    <tr>\n",
       "      <th>F1 Score_hash</th>\n",
       "      <td>0.68747</td>\n",
       "      <td>0.287554</td>\n",
       "      <td>0.594937</td>\n",
       "      <td>0.684211</td>\n",
       "      <td>0.764325</td>\n",
       "      <td>0.49092</td>\n",
       "      <td>0.788732</td>\n",
       "      <td>0.253875</td>\n",
       "      <td>0.618639</td>\n",
       "    </tr>\n",
       "  </tbody>\n",
       "</table>\n",
       "</div>"
      ],
      "text/plain": [
       "               AdaBoost        DT       KNN  Logistic    MLP_NN       NB  \\\n",
       "F1 Score_hash   0.68747  0.287554  0.594937  0.684211  0.764325  0.49092   \n",
       "\n",
       "               Passive Aggresive        RF       SVM  \n",
       "F1 Score_hash           0.788732  0.253875  0.618639  "
      ]
     },
     "execution_count": 128,
     "metadata": {},
     "output_type": "execute_result"
    }
   ],
   "source": [
    "F1_hash = {'Passive Aggresive':F1_pa_hash,'Logistic':F1_lr_hash,'AdaBoost':F1_ada_hash,'NB':F1_nb_hash,\n",
    "          'RF':F1_rf_hash,'DT':F1_dt_hash,'KNN':F1_knn_hash,\"MLP_NN\":F1_mlp_hash,\"SVM\":F1_svm_hash}\n",
    "acc_hash1 = pd.DataFrame([F1_hash])\n",
    "acc_hash1.index=['F1 Score_hash']\n",
    "acc_hash1"
   ]
  },
  {
   "cell_type": "code",
   "execution_count": 129,
   "metadata": {},
   "outputs": [
    {
     "data": {
      "text/html": [
       "<div>\n",
       "<style scoped>\n",
       "    .dataframe tbody tr th:only-of-type {\n",
       "        vertical-align: middle;\n",
       "    }\n",
       "\n",
       "    .dataframe tbody tr th {\n",
       "        vertical-align: top;\n",
       "    }\n",
       "\n",
       "    .dataframe thead th {\n",
       "        text-align: right;\n",
       "    }\n",
       "</style>\n",
       "<table border=\"1\" class=\"dataframe\">\n",
       "  <thead>\n",
       "    <tr style=\"text-align: right;\">\n",
       "      <th></th>\n",
       "      <th>AdaBoost</th>\n",
       "      <th>DT</th>\n",
       "      <th>KNN</th>\n",
       "      <th>Logistic</th>\n",
       "      <th>MLP_NN</th>\n",
       "      <th>NB</th>\n",
       "      <th>Passive Aggresive</th>\n",
       "      <th>RF</th>\n",
       "      <th>SVM</th>\n",
       "    </tr>\n",
       "  </thead>\n",
       "  <tbody>\n",
       "    <tr>\n",
       "      <th>F1 Score_cnt</th>\n",
       "      <td>0.679602</td>\n",
       "      <td>0.287554</td>\n",
       "      <td>0.160673</td>\n",
       "      <td>0.781235</td>\n",
       "      <td>0.780531</td>\n",
       "      <td>0.698696</td>\n",
       "      <td>0.772463</td>\n",
       "      <td>0.379611</td>\n",
       "      <td>0.113036</td>\n",
       "    </tr>\n",
       "  </tbody>\n",
       "</table>\n",
       "</div>"
      ],
      "text/plain": [
       "              AdaBoost        DT       KNN  Logistic    MLP_NN        NB  \\\n",
       "F1 Score_cnt  0.679602  0.287554  0.160673  0.781235  0.780531  0.698696   \n",
       "\n",
       "              Passive Aggresive        RF       SVM  \n",
       "F1 Score_cnt           0.772463  0.379611  0.113036  "
      ]
     },
     "execution_count": 129,
     "metadata": {},
     "output_type": "execute_result"
    }
   ],
   "source": [
    "F1_cnt = {'Passive Aggresive':F1_pa_cnt,'Logistic':F1_lr_cnt,'AdaBoost':F1_ada_cnt,'NB':F1_nb_cnt,\n",
    "          'RF':F1_rf_cnt,'DT':F1_dt_cnt,'KNN':F1_knn_cnt,\"MLP_NN\":F1_mlp_cnt,\"SVM\":F1_svm_cnt}\n",
    "acc_cnt1 = pd.DataFrame([F1_cnt])\n",
    "acc_cnt1.index=['F1 Score_cnt']\n",
    "acc_cnt1"
   ]
  },
  {
   "cell_type": "code",
   "execution_count": 130,
   "metadata": {},
   "outputs": [
    {
     "data": {
      "text/html": [
       "<div>\n",
       "<style scoped>\n",
       "    .dataframe tbody tr th:only-of-type {\n",
       "        vertical-align: middle;\n",
       "    }\n",
       "\n",
       "    .dataframe tbody tr th {\n",
       "        vertical-align: top;\n",
       "    }\n",
       "\n",
       "    .dataframe thead th {\n",
       "        text-align: right;\n",
       "    }\n",
       "</style>\n",
       "<table border=\"1\" class=\"dataframe\">\n",
       "  <thead>\n",
       "    <tr style=\"text-align: right;\">\n",
       "      <th></th>\n",
       "      <th>AdaBoost</th>\n",
       "      <th>DT</th>\n",
       "      <th>KNN</th>\n",
       "      <th>Logistic</th>\n",
       "      <th>MLP_NN</th>\n",
       "      <th>NB</th>\n",
       "      <th>Passive Aggresive</th>\n",
       "      <th>RF</th>\n",
       "      <th>SVM</th>\n",
       "    </tr>\n",
       "  </thead>\n",
       "  <tbody>\n",
       "    <tr>\n",
       "      <th>F1 Score_tfidf</th>\n",
       "      <td>0.678082</td>\n",
       "      <td>0.64186</td>\n",
       "      <td>0.553425</td>\n",
       "      <td>0.664488</td>\n",
       "      <td>0.811738</td>\n",
       "      <td>0.729867</td>\n",
       "      <td>0.79963</td>\n",
       "      <td>0.343967</td>\n",
       "      <td>0.589001</td>\n",
       "    </tr>\n",
       "  </tbody>\n",
       "</table>\n",
       "</div>"
      ],
      "text/plain": [
       "                AdaBoost       DT       KNN  Logistic    MLP_NN        NB  \\\n",
       "F1 Score_tfidf  0.678082  0.64186  0.553425  0.664488  0.811738  0.729867   \n",
       "\n",
       "                Passive Aggresive        RF       SVM  \n",
       "F1 Score_tfidf            0.79963  0.343967  0.589001  "
      ]
     },
     "execution_count": 130,
     "metadata": {},
     "output_type": "execute_result"
    }
   ],
   "source": [
    "\n",
    "F1_tfidf = {'Passive Aggresive':F1_pa,'Logistic':F1_lr,'AdaBoost':F1_ada,'NB':F1_nb,\n",
    "      'RF':F1_rf,'DT':F1_dt,'KNN':F1_knn,\"MLP_NN\":F1_mlp,\"SVM\":F1_svm}\n",
    "acc_tfidf1 = pd.DataFrame([F1_tfidf])\n",
    "acc_tfidf1.index=['F1 Score_tfidf']\n",
    "acc_tfidf1"
   ]
  },
  {
   "cell_type": "code",
   "execution_count": 138,
   "metadata": {},
   "outputs": [],
   "source": [
    "performance1 = acc_cnt1\n",
    "performance1=performance1.append(acc_tfidf1, ignore_index=False)\n",
    "p1=performance1.append(acc_hash1, ignore_index=False)\n"
   ]
  },
  {
   "cell_type": "code",
   "execution_count": 141,
   "metadata": {},
   "outputs": [],
   "source": [
    "p1.to_csv(\"C:/Users/Administrator/Downloads/v5/table2.train.csv\", encoding='utf-8')"
   ]
  },
  {
   "cell_type": "code",
   "execution_count": null,
   "metadata": {},
   "outputs": [],
   "source": []
  }
 ],
 "metadata": {
  "kernelspec": {
   "display_name": "Python 3",
   "language": "python",
   "name": "python3"
  },
  "language_info": {
   "codemirror_mode": {
    "name": "ipython",
    "version": 3
   },
   "file_extension": ".py",
   "mimetype": "text/x-python",
   "name": "python",
   "nbconvert_exporter": "python",
   "pygments_lexer": "ipython3",
   "version": "3.6.5"
  }
 },
 "nbformat": 4,
 "nbformat_minor": 2
}
